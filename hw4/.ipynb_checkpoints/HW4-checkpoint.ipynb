{
 "cells": [
  {
   "cell_type": "markdown",
   "metadata": {},
   "source": [
    "# Homework 4"
   ]
  },
  {
   "cell_type": "markdown",
   "metadata": {},
   "source": [
    "In previous homework we cleaned the data describing the numer of cell phones in every country in th eperiod from 1960 to 2019. In this paper we will merge this data with population data so we can find values describing phones per capita and more. "
   ]
  },
  {
   "cell_type": "code",
   "execution_count": 143,
   "metadata": {},
   "outputs": [],
   "source": [
    "import pandas as pd\n",
    "\n",
    "cell_phones = pd.read_csv(\"clean_cell_phones.csv\")\n",
    "pop = pd.read_csv(\"pop_data.csv\")\n",
    "\n",
    "df1_long = cell_phones.melt(id_vars ='iso-3', var_name='year', value_name='n_cellphones')\n",
    "df2_long = pop.melt(id_vars='iso-3', var_name='year', value_name='population')\n",
    "\n",
    "merged = pd.merge(df1_long, df2_long, on = ['iso-3', 'year'], how=\"inner\")\n",
    "#merged.set_index(['iso-3', 'year'], inplace = True)\n"
   ]
  },
  {
   "cell_type": "markdown",
   "metadata": {},
   "source": [
    "We use the melt function to create dataframes such that the frist two columns are iso-3 and year. Then we merge them into one dataframe.\n",
    "\n",
    "Next we want to combine the data from n_cellphones and year by finding the ratio of cellphones per person. "
   ]
  },
  {
   "cell_type": "code",
   "execution_count": 167,
   "metadata": {},
   "outputs": [
    {
     "data": {
      "text/html": [
       "<div>\n",
       "<style scoped>\n",
       "    .dataframe tbody tr th:only-of-type {\n",
       "        vertical-align: middle;\n",
       "    }\n",
       "\n",
       "    .dataframe tbody tr th {\n",
       "        vertical-align: top;\n",
       "    }\n",
       "\n",
       "    .dataframe thead th {\n",
       "        text-align: right;\n",
       "    }\n",
       "</style>\n",
       "<table border=\"1\" class=\"dataframe\">\n",
       "  <thead>\n",
       "    <tr style=\"text-align: right;\">\n",
       "      <th>name</th>\n",
       "      <th>Macao</th>\n",
       "      <th>Hong Kong</th>\n",
       "      <th>United Arab Emirates</th>\n",
       "      <th>Antigua and Barbuda</th>\n",
       "      <th>Seychelles</th>\n",
       "    </tr>\n",
       "    <tr>\n",
       "      <th>year</th>\n",
       "      <th></th>\n",
       "      <th></th>\n",
       "      <th></th>\n",
       "      <th></th>\n",
       "      <th></th>\n",
       "    </tr>\n",
       "  </thead>\n",
       "  <tbody>\n",
       "    <tr>\n",
       "      <th>2015</th>\n",
       "      <td>3.088231</td>\n",
       "      <td>2.290401</td>\n",
       "      <td>2.007424</td>\n",
       "      <td>1.956838</td>\n",
       "      <td>1.584260</td>\n",
       "    </tr>\n",
       "    <tr>\n",
       "      <th>2016</th>\n",
       "      <td>3.143510</td>\n",
       "      <td>2.398931</td>\n",
       "      <td>2.212521</td>\n",
       "      <td>1.987545</td>\n",
       "      <td>1.605459</td>\n",
       "    </tr>\n",
       "    <tr>\n",
       "      <th>2017</th>\n",
       "      <td>3.210102</td>\n",
       "      <td>2.488773</td>\n",
       "      <td>2.183431</td>\n",
       "      <td>2.019337</td>\n",
       "      <td>1.742433</td>\n",
       "    </tr>\n",
       "    <tr>\n",
       "      <th>2018</th>\n",
       "      <td>3.348741</td>\n",
       "      <td>2.670209</td>\n",
       "      <td>2.199084</td>\n",
       "      <td>2.008164</td>\n",
       "      <td>1.849900</td>\n",
       "    </tr>\n",
       "    <tr>\n",
       "      <th>2019</th>\n",
       "      <td>3.284849</td>\n",
       "      <td>2.863650</td>\n",
       "      <td>2.127739</td>\n",
       "      <td>1.997460</td>\n",
       "      <td>1.987196</td>\n",
       "    </tr>\n",
       "  </tbody>\n",
       "</table>\n",
       "</div>"
      ],
      "text/plain": [
       "name     Macao  Hong Kong  United Arab Emirates  Antigua and Barbuda  \\\n",
       "year                                                                   \n",
       "2015  3.088231   2.290401              2.007424             1.956838   \n",
       "2016  3.143510   2.398931              2.212521             1.987545   \n",
       "2017  3.210102   2.488773              2.183431             2.019337   \n",
       "2018  3.348741   2.670209              2.199084             2.008164   \n",
       "2019  3.284849   2.863650              2.127739             1.997460   \n",
       "\n",
       "name  Seychelles  \n",
       "year              \n",
       "2015    1.584260  \n",
       "2016    1.605459  \n",
       "2017    1.742433  \n",
       "2018    1.849900  \n",
       "2019    1.987196  "
      ]
     },
     "execution_count": 167,
     "metadata": {},
     "output_type": "execute_result"
    }
   ],
   "source": [
    "country = pd.read_csv(\"country_data.csv\")\n",
    "country_sub = country[['alpha-3', 'name']]\n",
    "\n",
    "full_name = merged.merge(country_sub, left_on ='iso-3', right_on= 'alpha-3', how = 'right') #merge the country and merged df:s\n",
    "full_name = full_name.drop(columns = 'alpha-3')\n",
    "full_name = full_name.drop(columns = 'iso-3')\n",
    "full_name['cell_per_capita'] = full_name['n_cellphones']/full_name['population']\n",
    "\n",
    "reshape = full_name.pivot(index='year', columns = 'name', values = 'cell_per_capita')# Pivot and reshape the dataframe \n",
    "reshape = reshape.dropna(axis = 1, how='all')\n",
    "reshape = reshape.dropna(how='all')\n",
    "\n",
    "max_2019 = reshape.sort_values(by='2019', axis=1, ascending = False)\n",
    "max_2019.iloc[-5:, :5]"
   ]
  },
  {
   "cell_type": "markdown",
   "metadata": {},
   "source": [
    "We read a dataset to find a map from the iso-3 to the full name of the country, combine with the previous dataset, find phones per capita and pivot from long format to wide format. Then we sort by the rows to find the highes phones per capita in 2019. \n",
    "\n",
    "Now, let us find which country has highes growth rate by visualizing the data. "
   ]
  },
  {
   "cell_type": "code",
   "execution_count": null,
   "metadata": {},
   "outputs": [],
   "source": []
  }
 ],
 "metadata": {
  "kernelspec": {
   "display_name": "Python 3",
   "language": "python",
   "name": "python3"
  },
  "language_info": {
   "codemirror_mode": {
    "name": "ipython",
    "version": 3
   },
   "file_extension": ".py",
   "mimetype": "text/x-python",
   "name": "python",
   "nbconvert_exporter": "python",
   "pygments_lexer": "ipython3",
   "version": "3.8.5"
  }
 },
 "nbformat": 4,
 "nbformat_minor": 4
}
