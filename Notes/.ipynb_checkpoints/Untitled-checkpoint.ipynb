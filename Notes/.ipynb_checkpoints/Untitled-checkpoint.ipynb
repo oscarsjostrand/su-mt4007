{
 "cells": [
  {
   "cell_type": "markdown",
   "metadata": {},
   "source": [
    "# API\n",
    "* Application programing interface\n",
    "* Three steps to a system \n",
    "1. Server: A computer running an API\n",
    "2. API: The hiddan portion of a website that is meant for computer consumtion. \n",
    "3. Clienr: A program that exhanges data with a server through API.\n",
    "\n",
    "### Protocol\n",
    "* HTTP (hypertext transfer protocol)\n",
    "* Make request, return responce (Client and Server)\n",
    "* Request need to include\n",
    "1. URL (Uniform Resource Locator) \n",
    "2. Method: Some common API methods are GET, POST, PUT, PATCH, DELETE.\n",
    "3. List of headers:Information about the request\n",
    "4. Body: Data of the request.\n",
    "* Responce: Status code, Header, Body\n",
    "\n",
    "### Types and Formats\n",
    "\n",
    "* Internal (Private)\n",
    "* External (Public)\n",
    "* Partner (Approved Parties)\n",
    "* Compoisite (More API:s)\n",
    "* Formats: JSON (Dataframe), XML "
   ]
  },
  {
   "cell_type": "markdown",
   "metadata": {},
   "source": [
    "# Web Scraping\n",
    "\n",
    "\n"
   ]
  }
 ],
 "metadata": {
  "kernelspec": {
   "display_name": "Python 3",
   "language": "python",
   "name": "python3"
  },
  "language_info": {
   "codemirror_mode": {
    "name": "ipython",
    "version": 3
   },
   "file_extension": ".py",
   "mimetype": "text/x-python",
   "name": "python",
   "nbconvert_exporter": "python",
   "pygments_lexer": "ipython3",
   "version": "3.8.5"
  }
 },
 "nbformat": 4,
 "nbformat_minor": 4
}
