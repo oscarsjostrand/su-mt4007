{
 "cells": [
  {
   "cell_type": "markdown",
   "metadata": {},
   "source": [
    "# Homework 2\n",
    "\n",
    "Oscar Sjöstrand"
   ]
  },
  {
   "cell_type": "markdown",
   "metadata": {},
   "source": [
    "### Apartment Prices"
   ]
  },
  {
   "cell_type": "markdown",
   "metadata": {},
   "source": [
    "#### Q1"
   ]
  },
  {
   "cell_type": "code",
   "execution_count": 102,
   "metadata": {},
   "outputs": [],
   "source": [
    "import numpy as np\n",
    "import pandas as pd\n",
    "from pandas import Series, DataFrame\n",
    "df = pd.read_csv(\"Booli_sold.csv\")"
   ]
  },
  {
   "cell_type": "code",
   "execution_count": 103,
   "metadata": {},
   "outputs": [],
   "source": [
    "\"Extract the columns\"\n",
    "price = df[\"soldPrice\"]\n",
    "sq_m = df[\"livingArea\"]\n",
    "\"Calculation\"\n",
    "ppsqm = list_price/sq_m"
   ]
  },
  {
   "cell_type": "code",
   "execution_count": 104,
   "metadata": {},
   "outputs": [],
   "source": [
    "\"Add price_per_sq to the df\"\n",
    "df[\"ppsqm\"] = ppsqm"
   ]
  },
  {
   "cell_type": "markdown",
   "metadata": {},
   "source": [
    "#### Q2"
   ]
  },
  {
   "cell_type": "code",
   "execution_count": 105,
   "metadata": {},
   "outputs": [
    {
     "data": {
      "text/html": [
       "<div>\n",
       "<style scoped>\n",
       "    .dataframe tbody tr th:only-of-type {\n",
       "        vertical-align: middle;\n",
       "    }\n",
       "\n",
       "    .dataframe tbody tr th {\n",
       "        vertical-align: top;\n",
       "    }\n",
       "\n",
       "    .dataframe thead th {\n",
       "        text-align: right;\n",
       "    }\n",
       "</style>\n",
       "<table border=\"1\" class=\"dataframe\">\n",
       "  <thead>\n",
       "    <tr style=\"text-align: right;\">\n",
       "      <th></th>\n",
       "      <th>listPrice</th>\n",
       "      <th>rent</th>\n",
       "      <th>livingArea</th>\n",
       "      <th>rooms</th>\n",
       "      <th>published</th>\n",
       "      <th>constructionYear</th>\n",
       "      <th>objectType</th>\n",
       "      <th>booliId</th>\n",
       "      <th>soldDate</th>\n",
       "      <th>soldPrice</th>\n",
       "      <th>...</th>\n",
       "      <th>location.position.longitude</th>\n",
       "      <th>location.position.isApproximate</th>\n",
       "      <th>location.region.municipalityName</th>\n",
       "      <th>location.region.countyName</th>\n",
       "      <th>location.distance.ocean</th>\n",
       "      <th>source.name</th>\n",
       "      <th>source.id</th>\n",
       "      <th>source.type</th>\n",
       "      <th>source.url</th>\n",
       "      <th>ppsqm</th>\n",
       "    </tr>\n",
       "  </thead>\n",
       "  <tbody>\n",
       "    <tr>\n",
       "      <th>10</th>\n",
       "      <td>2295000</td>\n",
       "      <td>1743.0</td>\n",
       "      <td>29.0</td>\n",
       "      <td>1.0</td>\n",
       "      <td>2018-05-05 04:43:36</td>\n",
       "      <td>1935.0</td>\n",
       "      <td>Lägenhet</td>\n",
       "      <td>3125674</td>\n",
       "      <td>2018-05-19</td>\n",
       "      <td>2420000</td>\n",
       "      <td>...</td>\n",
       "      <td>18.054986</td>\n",
       "      <td>True</td>\n",
       "      <td>Stockholm</td>\n",
       "      <td>Stockholms län</td>\n",
       "      <td>136</td>\n",
       "      <td>Mäklarhuset</td>\n",
       "      <td>204</td>\n",
       "      <td>Broker</td>\n",
       "      <td>http://www.maklarhuset.se/</td>\n",
       "      <td>79137.931034</td>\n",
       "    </tr>\n",
       "    <tr>\n",
       "      <th>50</th>\n",
       "      <td>1890000</td>\n",
       "      <td>1464.0</td>\n",
       "      <td>24.0</td>\n",
       "      <td>1.0</td>\n",
       "      <td>2016-06-11 08:55:51</td>\n",
       "      <td>1935.0</td>\n",
       "      <td>Lägenhet</td>\n",
       "      <td>2125576</td>\n",
       "      <td>2016-06-21</td>\n",
       "      <td>2450000</td>\n",
       "      <td>...</td>\n",
       "      <td>18.055270</td>\n",
       "      <td>NaN</td>\n",
       "      <td>Stockholm</td>\n",
       "      <td>Stockholms län</td>\n",
       "      <td>161</td>\n",
       "      <td>HusmanHagberg</td>\n",
       "      <td>1610</td>\n",
       "      <td>Broker</td>\n",
       "      <td>http://www.husmanhagberg.se/</td>\n",
       "      <td>78750.000000</td>\n",
       "    </tr>\n",
       "    <tr>\n",
       "      <th>54</th>\n",
       "      <td>1795000</td>\n",
       "      <td>1374.0</td>\n",
       "      <td>23.0</td>\n",
       "      <td>1.0</td>\n",
       "      <td>2016-04-15 19:10:49</td>\n",
       "      <td>1935.0</td>\n",
       "      <td>Lägenhet</td>\n",
       "      <td>2078171</td>\n",
       "      <td>2016-04-28</td>\n",
       "      <td>2300000</td>\n",
       "      <td>...</td>\n",
       "      <td>18.055422</td>\n",
       "      <td>True</td>\n",
       "      <td>Stockholm</td>\n",
       "      <td>Stockholms län</td>\n",
       "      <td>135</td>\n",
       "      <td>Notar</td>\n",
       "      <td>1566</td>\n",
       "      <td>Broker</td>\n",
       "      <td>http://www.notar.se/</td>\n",
       "      <td>78043.478261</td>\n",
       "    </tr>\n",
       "    <tr>\n",
       "      <th>49</th>\n",
       "      <td>3495000</td>\n",
       "      <td>3052.0</td>\n",
       "      <td>47.0</td>\n",
       "      <td>2.0</td>\n",
       "      <td>2016-07-31 06:06:54</td>\n",
       "      <td>NaN</td>\n",
       "      <td>Lägenhet</td>\n",
       "      <td>2145197</td>\n",
       "      <td>2016-08-15</td>\n",
       "      <td>3375000</td>\n",
       "      <td>...</td>\n",
       "      <td>18.053174</td>\n",
       "      <td>True</td>\n",
       "      <td>Stockholm</td>\n",
       "      <td>Stockholms län</td>\n",
       "      <td>171</td>\n",
       "      <td>Notar</td>\n",
       "      <td>1566</td>\n",
       "      <td>Broker</td>\n",
       "      <td>http://www.notar.se/</td>\n",
       "      <td>74361.702128</td>\n",
       "    </tr>\n",
       "    <tr>\n",
       "      <th>24</th>\n",
       "      <td>2500000</td>\n",
       "      <td>1400.0</td>\n",
       "      <td>35.0</td>\n",
       "      <td>1.0</td>\n",
       "      <td>2017-09-08 15:22:24</td>\n",
       "      <td>1936.0</td>\n",
       "      <td>Lägenhet</td>\n",
       "      <td>2405043</td>\n",
       "      <td>2017-10-06</td>\n",
       "      <td>2560000</td>\n",
       "      <td>...</td>\n",
       "      <td>18.053880</td>\n",
       "      <td>NaN</td>\n",
       "      <td>Stockholm</td>\n",
       "      <td>Stockholms län</td>\n",
       "      <td>218</td>\n",
       "      <td>HusmanHagberg</td>\n",
       "      <td>1610</td>\n",
       "      <td>Broker</td>\n",
       "      <td>http://www.husmanhagberg.se/</td>\n",
       "      <td>71428.571429</td>\n",
       "    </tr>\n",
       "  </tbody>\n",
       "</table>\n",
       "<p>5 rows × 28 columns</p>\n",
       "</div>"
      ],
      "text/plain": [
       "    listPrice    rent  livingArea  rooms            published  \\\n",
       "10    2295000  1743.0        29.0    1.0  2018-05-05 04:43:36   \n",
       "50    1890000  1464.0        24.0    1.0  2016-06-11 08:55:51   \n",
       "54    1795000  1374.0        23.0    1.0  2016-04-15 19:10:49   \n",
       "49    3495000  3052.0        47.0    2.0  2016-07-31 06:06:54   \n",
       "24    2500000  1400.0        35.0    1.0  2017-09-08 15:22:24   \n",
       "\n",
       "    constructionYear objectType  booliId    soldDate  soldPrice  ...  \\\n",
       "10            1935.0   Lägenhet  3125674  2018-05-19    2420000  ...   \n",
       "50            1935.0   Lägenhet  2125576  2016-06-21    2450000  ...   \n",
       "54            1935.0   Lägenhet  2078171  2016-04-28    2300000  ...   \n",
       "49               NaN   Lägenhet  2145197  2016-08-15    3375000  ...   \n",
       "24            1936.0   Lägenhet  2405043  2017-10-06    2560000  ...   \n",
       "\n",
       "   location.position.longitude location.position.isApproximate  \\\n",
       "10                   18.054986                            True   \n",
       "50                   18.055270                             NaN   \n",
       "54                   18.055422                            True   \n",
       "49                   18.053174                            True   \n",
       "24                   18.053880                             NaN   \n",
       "\n",
       "    location.region.municipalityName  location.region.countyName  \\\n",
       "10                         Stockholm              Stockholms län   \n",
       "50                         Stockholm              Stockholms län   \n",
       "54                         Stockholm              Stockholms län   \n",
       "49                         Stockholm              Stockholms län   \n",
       "24                         Stockholm              Stockholms län   \n",
       "\n",
       "    location.distance.ocean    source.name source.id  source.type  \\\n",
       "10                      136    Mäklarhuset       204       Broker   \n",
       "50                      161  HusmanHagberg      1610       Broker   \n",
       "54                      135          Notar      1566       Broker   \n",
       "49                      171          Notar      1566       Broker   \n",
       "24                      218  HusmanHagberg      1610       Broker   \n",
       "\n",
       "                      source.url         ppsqm  \n",
       "10    http://www.maklarhuset.se/  79137.931034  \n",
       "50  http://www.husmanhagberg.se/  78750.000000  \n",
       "54          http://www.notar.se/  78043.478261  \n",
       "49          http://www.notar.se/  74361.702128  \n",
       "24  http://www.husmanhagberg.se/  71428.571429  \n",
       "\n",
       "[5 rows x 28 columns]"
      ]
     },
     "execution_count": 105,
     "metadata": {},
     "output_type": "execute_result"
    }
   ],
   "source": [
    "five_most_expensive = df.sort_values(by=\"ppsqm\", ascending=False)[:5]\n",
    "five_most_expensive"
   ]
  },
  {
   "cell_type": "markdown",
   "metadata": {},
   "source": [
    "We see that the apparpmets with the highest price per square meter is 10, 50, 54, 49 and 24."
   ]
  },
  {
   "cell_type": "code",
   "execution_count": 106,
   "metadata": {},
   "outputs": [
    {
     "data": {
      "text/plain": [
       "54127.43692133397"
      ]
     },
     "execution_count": 106,
     "metadata": {},
     "output_type": "execute_result"
    }
   ],
   "source": [
    "mean_ppsqm = np.mean(ppsqm)\n",
    "mean_ppsqm"
   ]
  },
  {
   "cell_type": "markdown",
   "metadata": {},
   "source": [
    "Using the mean() function from numpy we see that the avrage ppsqm is about 54130 kr (asumtion on kr)."
   ]
  },
  {
   "cell_type": "markdown",
   "metadata": {},
   "source": [
    "#### Q4"
   ]
  },
  {
   "cell_type": "code",
   "execution_count": 107,
   "metadata": {},
   "outputs": [
    {
     "data": {
      "text/plain": [
       "<BarContainer object of 158 artists>"
      ]
     },
     "execution_count": 107,
     "metadata": {},
     "output_type": "execute_result"
    },
    {
     "data": {
      "image/png": "[encoded data removed]",
      "text/plain": [
       "<Figure size 432x288 with 1 Axes>"
      ]
     },
     "metadata": {
      "needs_background": "light"
     },
     "output_type": "display_data"
    }
   ],
   "source": [
    "import matplotlib.pyplot as plt\n",
    "df = df.sort_values(by=\"soldDate\")\n",
    "plt.bar(df[\"soldDate\"], df[\"ppsqm\"])"
   ]
  },
  {
   "cell_type": "markdown",
   "metadata": {},
   "source": [
    "## The Swedish Election of 2018"
   ]
  },
  {
   "cell_type": "markdown",
   "metadata": {},
   "source": [
    "#### Q1"
   ]
  },
  {
   "cell_type": "code",
   "execution_count": 108,
   "metadata": {},
   "outputs": [
    {
     "name": "stdout",
     "output_type": "stream",
     "text": [
      "     LÄNSKOD  KOMMUNKOD         LÄNSNAMN      KOMMUNNAMN      M      C     L  \\\n",
      "0          1         14   Stockholms län  Upplands Väsby  23,11   6,26  5,66   \n",
      "1          1         15   Stockholms län      Vallentuna  28,29  10,11  7,73   \n",
      "2          1         17   Stockholms län       Österåker  29,68   9,35  7,48   \n",
      "3          1         20   Stockholms län          Värmdö  27,49   9,76   6,4   \n",
      "4          1         23   Stockholms län        Järfälla  23,96   6,31  6,04   \n",
      "..       ...        ...              ...             ...    ...    ...   ...   \n",
      "285       25         80  Norrbottens län           Luleå  15,38   7,53  4,37   \n",
      "286       25         81  Norrbottens län           Piteå  11,82   7,49  2,52   \n",
      "287       25         82  Norrbottens län           Boden  14,32   6,23  3,61   \n",
      "288       25         83  Norrbottens län       Haparanda  12,79   9,61  1,86   \n",
      "289       25         84  Norrbottens län          Kiruna  10,71   5,38  2,51   \n",
      "\n",
      "       KD      S      V  ...  TRP  VL-S   ÖVR  OGEJ BLANK    OG  \\\n",
      "0    6,71  26,97   8,01  ...  NaN   NaN   NaN  0,04  0,69  0,06   \n",
      "1    7,58  18,91   4,47  ...    0   NaN     0  0,02  0,59  0,08   \n",
      "2    7,13  19,71   4,97  ...  NaN   NaN  0,01  0,03  0,69  0,13   \n",
      "3    5,89  20,48   6,02  ...  NaN   NaN  0,01  0,04  0,67  0,07   \n",
      "4    6,29  27,68   8,75  ...    0   NaN  0,02  0,04  0,53  0,07   \n",
      "..    ...    ...    ...  ...  ...   ...   ...   ...   ...   ...   \n",
      "285  4,78  38,97  10,47  ...  NaN   NaN  0,01  0,03  0,69  0,04   \n",
      "286   4,8  47,48  10,56  ...  NaN   NaN     0  0,03  0,61  0,02   \n",
      "287  4,61  41,76    8,1  ...  NaN   NaN  0,02  0,03  0,84  0,07   \n",
      "288  5,32  36,69   5,91  ...  NaN   NaN   NaN  0,04  1,01  0,11   \n",
      "289  4,91  38,23  13,46  ...  NaN  0,05  0,02  0,16  1,09  0,05   \n",
      "\n",
      "    RÖSTER GILTIGA RÖSTANDE RÖSTBERÄTTIGADE VALDELTAGANDE  \n",
      "0            25830    26036           30740          84,7  \n",
      "1            20952    21099           23438         90,02  \n",
      "2            27711    27947           31309         89,26  \n",
      "3            28115    28335           31371         90,32  \n",
      "4            45654    45948           53230         86,32  \n",
      "..             ...      ...             ...           ...  \n",
      "285          53182    53589           60185         89,04  \n",
      "286          29523    29719           33094          89,8  \n",
      "287          19110    19291           21934         87,95  \n",
      "288           4402     4454            6120         72,78  \n",
      "289          14796    14991           17468         85,82  \n",
      "\n",
      "[290 rows x 45 columns]\n"
     ]
    }
   ],
   "source": [
    "df = pd.read_csv(\"2018_R_per_kommun.csv\", sep=\";\")\n",
    "print(df)"
   ]
  },
  {
   "cell_type": "code",
   "execution_count": 109,
   "metadata": {},
   "outputs": [
    {
     "data": {
      "text/plain": [
       "6476725"
      ]
     },
     "execution_count": 109,
     "metadata": {},
     "output_type": "execute_result"
    }
   ],
   "source": [
    "sum = np.sum(df[\"RÖSTER GILTIGA\"])\n",
    "sum"
   ]
  },
  {
   "cell_type": "markdown",
   "metadata": {},
   "source": [
    "We use the sum() function in numpy to sum over the column \"RÖSTER GILTIGA\" to fint that the total number of legitimate votes are 6 476 725"
   ]
  },
  {
   "cell_type": "markdown",
   "metadata": {},
   "source": [
    "#### Q2"
   ]
  },
  {
   "cell_type": "code",
   "execution_count": 110,
   "metadata": {},
   "outputs": [],
   "source": [
    "# Replace the , with . and transforming into float values\n",
    "Clean_S = []\n",
    "for i in df[\"S\"].copy():\n",
    "    i = float(i.replace(\",\", \".\"))\n",
    "    Clean_S.append(i)\n",
    "df[\"S\"] = Clean_S"
   ]
  },
  {
   "cell_type": "code",
   "execution_count": 111,
   "metadata": {},
   "outputs": [
    {
     "data": {
      "text/html": [
       "<div>\n",
       "<style scoped>\n",
       "    .dataframe tbody tr th:only-of-type {\n",
       "        vertical-align: middle;\n",
       "    }\n",
       "\n",
       "    .dataframe tbody tr th {\n",
       "        vertical-align: top;\n",
       "    }\n",
       "\n",
       "    .dataframe thead th {\n",
       "        text-align: right;\n",
       "    }\n",
       "</style>\n",
       "<table border=\"1\" class=\"dataframe\">\n",
       "  <thead>\n",
       "    <tr style=\"text-align: right;\">\n",
       "      <th></th>\n",
       "      <th>LÄNSKOD</th>\n",
       "      <th>KOMMUNKOD</th>\n",
       "      <th>LÄNSNAMN</th>\n",
       "      <th>KOMMUNNAMN</th>\n",
       "      <th>M</th>\n",
       "      <th>C</th>\n",
       "      <th>L</th>\n",
       "      <th>KD</th>\n",
       "      <th>S</th>\n",
       "      <th>V</th>\n",
       "      <th>...</th>\n",
       "      <th>TRP</th>\n",
       "      <th>VL-S</th>\n",
       "      <th>ÖVR</th>\n",
       "      <th>OGEJ</th>\n",
       "      <th>BLANK</th>\n",
       "      <th>OG</th>\n",
       "      <th>RÖSTER GILTIGA</th>\n",
       "      <th>RÖSTANDE</th>\n",
       "      <th>RÖSTBERÄTTIGADE</th>\n",
       "      <th>VALDELTAGANDE</th>\n",
       "    </tr>\n",
       "  </thead>\n",
       "  <tbody>\n",
       "    <tr>\n",
       "      <th>188</th>\n",
       "      <td>17</td>\n",
       "      <td>62</td>\n",
       "      <td>Värmlands län</td>\n",
       "      <td>Munkfors</td>\n",
       "      <td>8,33</td>\n",
       "      <td>8,12</td>\n",
       "      <td>2,91</td>\n",
       "      <td>3,93</td>\n",
       "      <td>52.18</td>\n",
       "      <td>6,11</td>\n",
       "      <td>...</td>\n",
       "      <td>NaN</td>\n",
       "      <td>NaN</td>\n",
       "      <td>NaN</td>\n",
       "      <td>NaN</td>\n",
       "      <td>1,02</td>\n",
       "      <td>NaN</td>\n",
       "      <td>2340</td>\n",
       "      <td>2364</td>\n",
       "      <td>2777</td>\n",
       "      <td>85,13</td>\n",
       "    </tr>\n",
       "  </tbody>\n",
       "</table>\n",
       "<p>1 rows × 45 columns</p>\n",
       "</div>"
      ],
      "text/plain": [
       "     LÄNSKOD  KOMMUNKOD       LÄNSNAMN KOMMUNNAMN     M     C     L    KD  \\\n",
       "188       17         62  Värmlands län   Munkfors  8,33  8,12  2,91  3,93   \n",
       "\n",
       "         S     V  ...  TRP VL-S  ÖVR OGEJ BLANK   OG RÖSTER GILTIGA RÖSTANDE  \\\n",
       "188  52.18  6,11  ...  NaN  NaN  NaN  NaN  1,02  NaN           2340     2364   \n",
       "\n",
       "    RÖSTBERÄTTIGADE VALDELTAGANDE  \n",
       "188            2777         85,13  \n",
       "\n",
       "[1 rows x 45 columns]"
      ]
     },
     "execution_count": 111,
     "metadata": {},
     "output_type": "execute_result"
    }
   ],
   "source": [
    "# Find the kommun with the higest S voting percentage\n",
    "most_S = df.sort_values(by=\"S\", ascending=False)[:1]\n",
    "most_S"
   ]
  },
  {
   "cell_type": "markdown",
   "metadata": {},
   "source": [
    "We see that Munkfors were the kommun with the highest percentage of S voters namely 52.18%"
   ]
  },
  {
   "cell_type": "markdown",
   "metadata": {},
   "source": [
    "#### Q3"
   ]
  },
  {
   "cell_type": "code",
   "execution_count": 112,
   "metadata": {},
   "outputs": [],
   "source": [
    "Clean_VAL = []\n",
    "for i in df[\"VALDELTAGANDE\"].copy():\n",
    "    i = float(i.replace(\",\", \".\"))\n",
    "    Clean_VAL.append(i)\n",
    "df[\"VALDELTAGANDE\"] = Clean_VAL"
   ]
  },
  {
   "cell_type": "code",
   "execution_count": 113,
   "metadata": {},
   "outputs": [
    {
     "data": {
      "text/html": [
       "<div>\n",
       "<style scoped>\n",
       "    .dataframe tbody tr th:only-of-type {\n",
       "        vertical-align: middle;\n",
       "    }\n",
       "\n",
       "    .dataframe tbody tr th {\n",
       "        vertical-align: top;\n",
       "    }\n",
       "\n",
       "    .dataframe thead th {\n",
       "        text-align: right;\n",
       "    }\n",
       "</style>\n",
       "<table border=\"1\" class=\"dataframe\">\n",
       "  <thead>\n",
       "    <tr style=\"text-align: right;\">\n",
       "      <th></th>\n",
       "      <th>LÄNSKOD</th>\n",
       "      <th>KOMMUNKOD</th>\n",
       "      <th>LÄNSNAMN</th>\n",
       "      <th>KOMMUNNAMN</th>\n",
       "      <th>M</th>\n",
       "      <th>C</th>\n",
       "      <th>L</th>\n",
       "      <th>KD</th>\n",
       "      <th>S</th>\n",
       "      <th>V</th>\n",
       "      <th>...</th>\n",
       "      <th>TRP</th>\n",
       "      <th>VL-S</th>\n",
       "      <th>ÖVR</th>\n",
       "      <th>OGEJ</th>\n",
       "      <th>BLANK</th>\n",
       "      <th>OG</th>\n",
       "      <th>RÖSTER GILTIGA</th>\n",
       "      <th>RÖSTANDE</th>\n",
       "      <th>RÖSTBERÄTTIGADE</th>\n",
       "      <th>VALDELTAGANDE</th>\n",
       "    </tr>\n",
       "  </thead>\n",
       "  <tbody>\n",
       "    <tr>\n",
       "      <th>288</th>\n",
       "      <td>25</td>\n",
       "      <td>83</td>\n",
       "      <td>Norrbottens län</td>\n",
       "      <td>Haparanda</td>\n",
       "      <td>12,79</td>\n",
       "      <td>9,61</td>\n",
       "      <td>1,86</td>\n",
       "      <td>5,32</td>\n",
       "      <td>36.69</td>\n",
       "      <td>5,91</td>\n",
       "      <td>...</td>\n",
       "      <td>NaN</td>\n",
       "      <td>NaN</td>\n",
       "      <td>NaN</td>\n",
       "      <td>0,04</td>\n",
       "      <td>1,01</td>\n",
       "      <td>0,11</td>\n",
       "      <td>4402</td>\n",
       "      <td>4454</td>\n",
       "      <td>6120</td>\n",
       "      <td>72.78</td>\n",
       "    </tr>\n",
       "    <tr>\n",
       "      <th>17</th>\n",
       "      <td>1</td>\n",
       "      <td>81</td>\n",
       "      <td>Stockholms län</td>\n",
       "      <td>Södertälje</td>\n",
       "      <td>19,81</td>\n",
       "      <td>5,86</td>\n",
       "      <td>4,45</td>\n",
       "      <td>11,17</td>\n",
       "      <td>27.18</td>\n",
       "      <td>7,7</td>\n",
       "      <td>...</td>\n",
       "      <td>NaN</td>\n",
       "      <td>NaN</td>\n",
       "      <td>0</td>\n",
       "      <td>0,03</td>\n",
       "      <td>0,76</td>\n",
       "      <td>0,06</td>\n",
       "      <td>48273</td>\n",
       "      <td>48684</td>\n",
       "      <td>62783</td>\n",
       "      <td>77.54</td>\n",
       "    </tr>\n",
       "    <tr>\n",
       "      <th>7</th>\n",
       "      <td>1</td>\n",
       "      <td>27</td>\n",
       "      <td>Stockholms län</td>\n",
       "      <td>Botkyrka</td>\n",
       "      <td>18,52</td>\n",
       "      <td>5,19</td>\n",
       "      <td>4,39</td>\n",
       "      <td>8,13</td>\n",
       "      <td>32.34</td>\n",
       "      <td>9,85</td>\n",
       "      <td>...</td>\n",
       "      <td>NaN</td>\n",
       "      <td>NaN</td>\n",
       "      <td>0,06</td>\n",
       "      <td>0,03</td>\n",
       "      <td>0,64</td>\n",
       "      <td>0,05</td>\n",
       "      <td>45393</td>\n",
       "      <td>45719</td>\n",
       "      <td>58436</td>\n",
       "      <td>78.24</td>\n",
       "    </tr>\n",
       "    <tr>\n",
       "      <th>97</th>\n",
       "      <td>12</td>\n",
       "      <td>31</td>\n",
       "      <td>Skåne län</td>\n",
       "      <td>Burlöv</td>\n",
       "      <td>19,35</td>\n",
       "      <td>5,03</td>\n",
       "      <td>4,73</td>\n",
       "      <td>3,55</td>\n",
       "      <td>32.41</td>\n",
       "      <td>6,23</td>\n",
       "      <td>...</td>\n",
       "      <td>0,03</td>\n",
       "      <td>NaN</td>\n",
       "      <td>NaN</td>\n",
       "      <td>0,02</td>\n",
       "      <td>0,85</td>\n",
       "      <td>0,07</td>\n",
       "      <td>10010</td>\n",
       "      <td>10105</td>\n",
       "      <td>12513</td>\n",
       "      <td>80.76</td>\n",
       "    </tr>\n",
       "    <tr>\n",
       "      <th>268</th>\n",
       "      <td>24</td>\n",
       "      <td>22</td>\n",
       "      <td>Västerbottens län</td>\n",
       "      <td>Sorsele</td>\n",
       "      <td>10,96</td>\n",
       "      <td>12,22</td>\n",
       "      <td>1,92</td>\n",
       "      <td>6,94</td>\n",
       "      <td>35.67</td>\n",
       "      <td>12,75</td>\n",
       "      <td>...</td>\n",
       "      <td>NaN</td>\n",
       "      <td>NaN</td>\n",
       "      <td>NaN</td>\n",
       "      <td>0,13</td>\n",
       "      <td>2,38</td>\n",
       "      <td>NaN</td>\n",
       "      <td>1514</td>\n",
       "      <td>1553</td>\n",
       "      <td>1922</td>\n",
       "      <td>80.80</td>\n",
       "    </tr>\n",
       "  </tbody>\n",
       "</table>\n",
       "<p>5 rows × 45 columns</p>\n",
       "</div>"
      ],
      "text/plain": [
       "     LÄNSKOD  KOMMUNKOD           LÄNSNAMN  KOMMUNNAMN      M      C     L  \\\n",
       "288       25         83    Norrbottens län   Haparanda  12,79   9,61  1,86   \n",
       "17         1         81     Stockholms län  Södertälje  19,81   5,86  4,45   \n",
       "7          1         27     Stockholms län    Botkyrka  18,52   5,19  4,39   \n",
       "97        12         31          Skåne län      Burlöv  19,35   5,03  4,73   \n",
       "268       24         22  Västerbottens län     Sorsele  10,96  12,22  1,92   \n",
       "\n",
       "        KD      S      V  ...   TRP VL-S   ÖVR  OGEJ BLANK    OG  \\\n",
       "288   5,32  36.69   5,91  ...   NaN  NaN   NaN  0,04  1,01  0,11   \n",
       "17   11,17  27.18    7,7  ...   NaN  NaN     0  0,03  0,76  0,06   \n",
       "7     8,13  32.34   9,85  ...   NaN  NaN  0,06  0,03  0,64  0,05   \n",
       "97    3,55  32.41   6,23  ...  0,03  NaN   NaN  0,02  0,85  0,07   \n",
       "268   6,94  35.67  12,75  ...   NaN  NaN   NaN  0,13  2,38   NaN   \n",
       "\n",
       "    RÖSTER GILTIGA RÖSTANDE RÖSTBERÄTTIGADE VALDELTAGANDE  \n",
       "288           4402     4454            6120         72.78  \n",
       "17           48273    48684           62783         77.54  \n",
       "7            45393    45719           58436         78.24  \n",
       "97           10010    10105           12513         80.76  \n",
       "268           1514     1553            1922         80.80  \n",
       "\n",
       "[5 rows x 45 columns]"
      ]
     },
     "execution_count": 113,
     "metadata": {},
     "output_type": "execute_result"
    }
   ],
   "source": [
    "df = df.sort_values(by=\"VALDELTAGANDE\")\n",
    "df[:5]"
   ]
  },
  {
   "cell_type": "markdown",
   "metadata": {},
   "source": [
    "## Predicting Strokes"
   ]
  },
  {
   "cell_type": "code",
   "execution_count": 114,
   "metadata": {},
   "outputs": [],
   "source": [
    "df = pd.read_csv(\"stroke-data.csv\")"
   ]
  },
  {
   "cell_type": "code",
   "execution_count": 115,
   "metadata": {},
   "outputs": [
    {
     "data": {
      "text/plain": [
       "Text(0, 0.5, 'Strokes')"
      ]
     },
     "execution_count": 115,
     "metadata": {},
     "output_type": "execute_result"
    },
    {
     "data": {
      "image/png": "[encoded data removed]",
      "text/plain": [
       "<Figure size 432x288 with 1 Axes>"
      ]
     },
     "metadata": {
      "needs_background": "light"
     },
     "output_type": "display_data"
    }
   ],
   "source": [
    "plt.hist(df[\"age\"])\n",
    "plt.xlabel(\"Age\")\n",
    "plt.ylabel(\"Strokes\")"
   ]
  },
  {
   "cell_type": "markdown",
   "metadata": {},
   "source": [
    "We see that as people get older the frequence of strokes also get higher. We draw this conclusion by looking at the plot above."
   ]
  },
  {
   "cell_type": "code",
   "execution_count": null,
   "metadata": {},
   "outputs": [],
   "source": []
  }
 ],
 "metadata": {
  "kernelspec": {
   "display_name": "Python 3",
   "language": "python",
   "name": "python3"
  },
  "language_info": {
   "codemirror_mode": {
    "name": "ipython",
    "version": 3
   },
   "file_extension": ".py",
   "mimetype": "text/x-python",
   "name": "python",
   "nbconvert_exporter": "python",
   "pygments_lexer": "ipython3",
   "version": "3.8.5"
  }
 },
 "nbformat": 4,
 "nbformat_minor": 4
}
