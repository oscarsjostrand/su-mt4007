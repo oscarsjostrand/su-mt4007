{
 "cells": [
  {
   "cell_type": "markdown",
   "metadata": {},
   "source": [
    "# Homework 2\n",
    "\n",
    "Oscar Sjöstrand"
   ]
  },
  {
   "cell_type": "markdown",
   "metadata": {},
   "source": [
    "### Apartment Prices"
   ]
  },
  {
   "cell_type": "markdown",
   "metadata": {},
   "source": [
    "In this section, we will explore a data set from Booli which describes apparment sales in Ekhagen in Stockholm. We are interested in finding the price per square meter and finding the five appartments with the highest price per square meter."
   ]
  },
  {
   "cell_type": "markdown",
   "metadata": {},
   "source": [
    "#### Q1"
   ]
  },
  {
   "cell_type": "code",
   "execution_count": 2,
   "metadata": {},
   "outputs": [],
   "source": [
    "import numpy as np\n",
    "import pandas as pd\n",
    "from pandas import Series, DataFrame\n",
    "df = pd.read_csv(\"Booli_sold.csv\")"
   ]
  },
  {
   "cell_type": "code",
   "execution_count": 19,
   "metadata": {},
   "outputs": [],
   "source": [
    "\"Extract the columns\"\n",
    "price = df[\"soldPrice\"]\n",
    "sq_m = df[\"livingArea\"]\n",
    "\"Calculation\"\n",
    "ppsqm = price/sq_m"
   ]
  },
  {
   "cell_type": "code",
   "execution_count": 20,
   "metadata": {},
   "outputs": [],
   "source": [
    "\"Add price_per_sq to the df\"\n",
    "df[\"ppsqm\"] = ppsqm"
   ]
  },
  {
   "cell_type": "markdown",
   "metadata": {},
   "source": [
    "#### Q2"
   ]
  },
  {
   "cell_type": "code",
   "execution_count": 21,
   "metadata": {},
   "outputs": [
    {
     "data": {
      "text/html": [
       "<div>\n",
       "<style scoped>\n",
       "    .dataframe tbody tr th:only-of-type {\n",
       "        vertical-align: middle;\n",
       "    }\n",
       "\n",
       "    .dataframe tbody tr th {\n",
       "        vertical-align: top;\n",
       "    }\n",
       "\n",
       "    .dataframe thead th {\n",
       "        text-align: right;\n",
       "    }\n",
       "</style>\n",
       "<table border=\"1\" class=\"dataframe\">\n",
       "  <thead>\n",
       "    <tr style=\"text-align: right;\">\n",
       "      <th></th>\n",
       "      <th>listPrice</th>\n",
       "      <th>rent</th>\n",
       "      <th>livingArea</th>\n",
       "      <th>rooms</th>\n",
       "      <th>published</th>\n",
       "      <th>constructionYear</th>\n",
       "      <th>objectType</th>\n",
       "      <th>booliId</th>\n",
       "      <th>soldDate</th>\n",
       "      <th>soldPrice</th>\n",
       "      <th>...</th>\n",
       "      <th>location.position.longitude</th>\n",
       "      <th>location.position.isApproximate</th>\n",
       "      <th>location.region.municipalityName</th>\n",
       "      <th>location.region.countyName</th>\n",
       "      <th>location.distance.ocean</th>\n",
       "      <th>source.name</th>\n",
       "      <th>source.id</th>\n",
       "      <th>source.type</th>\n",
       "      <th>source.url</th>\n",
       "      <th>ppsqm</th>\n",
       "    </tr>\n",
       "  </thead>\n",
       "  <tbody>\n",
       "    <tr>\n",
       "      <th>67</th>\n",
       "      <td>1595000</td>\n",
       "      <td>1464.0</td>\n",
       "      <td>24.0</td>\n",
       "      <td>1.0</td>\n",
       "      <td>2016-01-07 14:51:06</td>\n",
       "      <td>1935.0</td>\n",
       "      <td>Lägenhet</td>\n",
       "      <td>2018259</td>\n",
       "      <td>2016-01-21</td>\n",
       "      <td>2500000</td>\n",
       "      <td>...</td>\n",
       "      <td>18.055270</td>\n",
       "      <td>NaN</td>\n",
       "      <td>Stockholm</td>\n",
       "      <td>Stockholms län</td>\n",
       "      <td>161</td>\n",
       "      <td>Notar</td>\n",
       "      <td>1566</td>\n",
       "      <td>Broker</td>\n",
       "      <td>http://www.notar.se/</td>\n",
       "      <td>104166.666667</td>\n",
       "    </tr>\n",
       "    <tr>\n",
       "      <th>50</th>\n",
       "      <td>1890000</td>\n",
       "      <td>1464.0</td>\n",
       "      <td>24.0</td>\n",
       "      <td>1.0</td>\n",
       "      <td>2016-06-11 08:55:51</td>\n",
       "      <td>1935.0</td>\n",
       "      <td>Lägenhet</td>\n",
       "      <td>2125576</td>\n",
       "      <td>2016-06-21</td>\n",
       "      <td>2450000</td>\n",
       "      <td>...</td>\n",
       "      <td>18.055270</td>\n",
       "      <td>NaN</td>\n",
       "      <td>Stockholm</td>\n",
       "      <td>Stockholms län</td>\n",
       "      <td>161</td>\n",
       "      <td>HusmanHagberg</td>\n",
       "      <td>1610</td>\n",
       "      <td>Broker</td>\n",
       "      <td>http://www.husmanhagberg.se/</td>\n",
       "      <td>102083.333333</td>\n",
       "    </tr>\n",
       "    <tr>\n",
       "      <th>54</th>\n",
       "      <td>1795000</td>\n",
       "      <td>1374.0</td>\n",
       "      <td>23.0</td>\n",
       "      <td>1.0</td>\n",
       "      <td>2016-04-15 19:10:49</td>\n",
       "      <td>1935.0</td>\n",
       "      <td>Lägenhet</td>\n",
       "      <td>2078171</td>\n",
       "      <td>2016-04-28</td>\n",
       "      <td>2300000</td>\n",
       "      <td>...</td>\n",
       "      <td>18.055422</td>\n",
       "      <td>True</td>\n",
       "      <td>Stockholm</td>\n",
       "      <td>Stockholms län</td>\n",
       "      <td>135</td>\n",
       "      <td>Notar</td>\n",
       "      <td>1566</td>\n",
       "      <td>Broker</td>\n",
       "      <td>http://www.notar.se/</td>\n",
       "      <td>100000.000000</td>\n",
       "    </tr>\n",
       "    <tr>\n",
       "      <th>34</th>\n",
       "      <td>1750000</td>\n",
       "      <td>1144.0</td>\n",
       "      <td>25.0</td>\n",
       "      <td>1.0</td>\n",
       "      <td>2017-05-18 16:20:57</td>\n",
       "      <td>1936.0</td>\n",
       "      <td>Lägenhet</td>\n",
       "      <td>2330886</td>\n",
       "      <td>2017-06-01</td>\n",
       "      <td>2210000</td>\n",
       "      <td>...</td>\n",
       "      <td>18.053880</td>\n",
       "      <td>NaN</td>\n",
       "      <td>Stockholm</td>\n",
       "      <td>Stockholms län</td>\n",
       "      <td>218</td>\n",
       "      <td>HusmanHagberg</td>\n",
       "      <td>1610</td>\n",
       "      <td>Broker</td>\n",
       "      <td>http://www.husmanhagberg.se/</td>\n",
       "      <td>88400.000000</td>\n",
       "    </tr>\n",
       "    <tr>\n",
       "      <th>55</th>\n",
       "      <td>1895000</td>\n",
       "      <td>1522.0</td>\n",
       "      <td>26.9</td>\n",
       "      <td>1.0</td>\n",
       "      <td>2016-04-01 22:56:37</td>\n",
       "      <td>1968.0</td>\n",
       "      <td>Lägenhet</td>\n",
       "      <td>2067384</td>\n",
       "      <td>2016-04-19</td>\n",
       "      <td>2300000</td>\n",
       "      <td>...</td>\n",
       "      <td>18.058529</td>\n",
       "      <td>True</td>\n",
       "      <td>Stockholm</td>\n",
       "      <td>Stockholms län</td>\n",
       "      <td>298</td>\n",
       "      <td>Notar</td>\n",
       "      <td>1566</td>\n",
       "      <td>Broker</td>\n",
       "      <td>http://www.notar.se/</td>\n",
       "      <td>85501.858736</td>\n",
       "    </tr>\n",
       "  </tbody>\n",
       "</table>\n",
       "<p>5 rows × 28 columns</p>\n",
       "</div>"
      ],
      "text/plain": [
       "    listPrice    rent  livingArea  rooms            published  \\\n",
       "67    1595000  1464.0        24.0    1.0  2016-01-07 14:51:06   \n",
       "50    1890000  1464.0        24.0    1.0  2016-06-11 08:55:51   \n",
       "54    1795000  1374.0        23.0    1.0  2016-04-15 19:10:49   \n",
       "34    1750000  1144.0        25.0    1.0  2017-05-18 16:20:57   \n",
       "55    1895000  1522.0        26.9    1.0  2016-04-01 22:56:37   \n",
       "\n",
       "    constructionYear objectType  booliId    soldDate  soldPrice  ...  \\\n",
       "67            1935.0   Lägenhet  2018259  2016-01-21    2500000  ...   \n",
       "50            1935.0   Lägenhet  2125576  2016-06-21    2450000  ...   \n",
       "54            1935.0   Lägenhet  2078171  2016-04-28    2300000  ...   \n",
       "34            1936.0   Lägenhet  2330886  2017-06-01    2210000  ...   \n",
       "55            1968.0   Lägenhet  2067384  2016-04-19    2300000  ...   \n",
       "\n",
       "   location.position.longitude location.position.isApproximate  \\\n",
       "67                   18.055270                             NaN   \n",
       "50                   18.055270                             NaN   \n",
       "54                   18.055422                            True   \n",
       "34                   18.053880                             NaN   \n",
       "55                   18.058529                            True   \n",
       "\n",
       "    location.region.municipalityName  location.region.countyName  \\\n",
       "67                         Stockholm              Stockholms län   \n",
       "50                         Stockholm              Stockholms län   \n",
       "54                         Stockholm              Stockholms län   \n",
       "34                         Stockholm              Stockholms län   \n",
       "55                         Stockholm              Stockholms län   \n",
       "\n",
       "    location.distance.ocean    source.name source.id  source.type  \\\n",
       "67                      161          Notar      1566       Broker   \n",
       "50                      161  HusmanHagberg      1610       Broker   \n",
       "54                      135          Notar      1566       Broker   \n",
       "34                      218  HusmanHagberg      1610       Broker   \n",
       "55                      298          Notar      1566       Broker   \n",
       "\n",
       "                      source.url          ppsqm  \n",
       "67          http://www.notar.se/  104166.666667  \n",
       "50  http://www.husmanhagberg.se/  102083.333333  \n",
       "54          http://www.notar.se/  100000.000000  \n",
       "34  http://www.husmanhagberg.se/   88400.000000  \n",
       "55          http://www.notar.se/   85501.858736  \n",
       "\n",
       "[5 rows x 28 columns]"
      ]
     },
     "execution_count": 21,
     "metadata": {},
     "output_type": "execute_result"
    }
   ],
   "source": [
    "five_most_expensive = df.sort_values(by=\"ppsqm\", ascending=False)[:5]\n",
    "five_most_expensive"
   ]
  },
  {
   "cell_type": "markdown",
   "metadata": {},
   "source": [
    "We see that the apparpmets with the highest price per square meter is 67, 50, 54, 34 and 55."
   ]
  },
  {
   "cell_type": "code",
   "execution_count": 138,
   "metadata": {},
   "outputs": [
    {
     "data": {
      "text/plain": [
       "54127.43692133397"
      ]
     },
     "execution_count": 138,
     "metadata": {},
     "output_type": "execute_result"
    }
   ],
   "source": [
    "mean_ppsqm = np.mean(ppsqm)\n",
    "mean_ppsqm"
   ]
  },
  {
   "cell_type": "markdown",
   "metadata": {},
   "source": [
    "Using the mean() function from numpy we see that the avrage ppsqm is about 54130 kr (asumtion on kr)."
   ]
  },
  {
   "cell_type": "markdown",
   "metadata": {},
   "source": [
    "#### Q4"
   ]
  },
  {
   "cell_type": "code",
   "execution_count": 139,
   "metadata": {},
   "outputs": [
    {
     "data": {
      "text/plain": [
       "Text(0, 0.5, 'Rent')"
      ]
     },
     "execution_count": 139,
     "metadata": {},
     "output_type": "execute_result"
    },
    {
     "data": {
      "image/png": "[encoded data removed]",
      "text/plain": [
       "<Figure size 432x288 with 1 Axes>"
      ]
     },
     "metadata": {
      "needs_background": "light"
     },
     "output_type": "display_data"
    }
   ],
   "source": [
    "import matplotlib.pyplot as plt\n",
    "df = df.sort_values(by=\"soldPrice\")\n",
    "plt.plot(df[\"soldPrice\"], df[\"rent\"])\n",
    "plt.xlabel(\"Price\")\n",
    "plt.ylabel(\"Rent\")"
   ]
  },
  {
   "cell_type": "markdown",
   "metadata": {},
   "source": [
    "An interesting aspect of the data is the relation between rent and price. We see that the rent increases when the price of the apartment increases but, seems to stagnate at a rent price of around 6000 kr.  "
   ]
  },
  {
   "cell_type": "markdown",
   "metadata": {},
   "source": [
    "## The Swedish Election of 2018"
   ]
  },
  {
   "cell_type": "markdown",
   "metadata": {},
   "source": [
    "The data set in this section describes the swedish election 2018. We are interested in finding the number of valid votes in Stockholms län. We are also interersted in which municipality the social democrats had the hihgest voting percentage. Lastly we are interested in which three municipalities had the highest participation."
   ]
  },
  {
   "cell_type": "markdown",
   "metadata": {},
   "source": [
    "#### Q1"
   ]
  },
  {
   "cell_type": "code",
   "execution_count": 3,
   "metadata": {},
   "outputs": [
    {
     "name": "stdout",
     "output_type": "stream",
     "text": [
      "     LÄNSKOD  KOMMUNKOD         LÄNSNAMN      KOMMUNNAMN      M      C     L  \\\n",
      "0          1         14   Stockholms län  Upplands Väsby  23,11   6,26  5,66   \n",
      "1          1         15   Stockholms län      Vallentuna  28,29  10,11  7,73   \n",
      "2          1         17   Stockholms län       Österåker  29,68   9,35  7,48   \n",
      "3          1         20   Stockholms län          Värmdö  27,49   9,76   6,4   \n",
      "4          1         23   Stockholms län        Järfälla  23,96   6,31  6,04   \n",
      "..       ...        ...              ...             ...    ...    ...   ...   \n",
      "285       25         80  Norrbottens län           Luleå  15,38   7,53  4,37   \n",
      "286       25         81  Norrbottens län           Piteå  11,82   7,49  2,52   \n",
      "287       25         82  Norrbottens län           Boden  14,32   6,23  3,61   \n",
      "288       25         83  Norrbottens län       Haparanda  12,79   9,61  1,86   \n",
      "289       25         84  Norrbottens län          Kiruna  10,71   5,38  2,51   \n",
      "\n",
      "       KD      S      V  ...  TRP  VL-S   ÖVR  OGEJ BLANK    OG  \\\n",
      "0    6,71  26,97   8,01  ...  NaN   NaN   NaN  0,04  0,69  0,06   \n",
      "1    7,58  18,91   4,47  ...    0   NaN     0  0,02  0,59  0,08   \n",
      "2    7,13  19,71   4,97  ...  NaN   NaN  0,01  0,03  0,69  0,13   \n",
      "3    5,89  20,48   6,02  ...  NaN   NaN  0,01  0,04  0,67  0,07   \n",
      "4    6,29  27,68   8,75  ...    0   NaN  0,02  0,04  0,53  0,07   \n",
      "..    ...    ...    ...  ...  ...   ...   ...   ...   ...   ...   \n",
      "285  4,78  38,97  10,47  ...  NaN   NaN  0,01  0,03  0,69  0,04   \n",
      "286   4,8  47,48  10,56  ...  NaN   NaN     0  0,03  0,61  0,02   \n",
      "287  4,61  41,76    8,1  ...  NaN   NaN  0,02  0,03  0,84  0,07   \n",
      "288  5,32  36,69   5,91  ...  NaN   NaN   NaN  0,04  1,01  0,11   \n",
      "289  4,91  38,23  13,46  ...  NaN  0,05  0,02  0,16  1,09  0,05   \n",
      "\n",
      "    RÖSTER GILTIGA RÖSTANDE RÖSTBERÄTTIGADE VALDELTAGANDE  \n",
      "0            25830    26036           30740          84,7  \n",
      "1            20952    21099           23438         90,02  \n",
      "2            27711    27947           31309         89,26  \n",
      "3            28115    28335           31371         90,32  \n",
      "4            45654    45948           53230         86,32  \n",
      "..             ...      ...             ...           ...  \n",
      "285          53182    53589           60185         89,04  \n",
      "286          29523    29719           33094          89,8  \n",
      "287          19110    19291           21934         87,95  \n",
      "288           4402     4454            6120         72,78  \n",
      "289          14796    14991           17468         85,82  \n",
      "\n",
      "[290 rows x 45 columns]\n"
     ]
    }
   ],
   "source": [
    "df = pd.read_csv(\"2018_R_per_kommun.csv\", sep=\";\")\n",
    "print(df)"
   ]
  },
  {
   "cell_type": "code",
   "execution_count": 4,
   "metadata": {},
   "outputs": [
    {
     "data": {
      "text/plain": [
       "1426237"
      ]
     },
     "execution_count": 4,
     "metadata": {},
     "output_type": "execute_result"
    }
   ],
   "source": [
    "sum_sthlm = df[df['LÄNSNAMN'] == 'Stockholms län'][\"RÖSTER GILTIGA\"].sum()\n",
    "sum_sthlm"
   ]
  },
  {
   "cell_type": "markdown",
   "metadata": {},
   "source": [
    "We use the sum() function in numpy to sum over the column \"RÖSTER GILTIGA\" to fint that the total number of legitimate votes are 1 426 237"
   ]
  },
  {
   "cell_type": "markdown",
   "metadata": {},
   "source": [
    "#### Q2"
   ]
  },
  {
   "cell_type": "code",
   "execution_count": 5,
   "metadata": {},
   "outputs": [],
   "source": [
    "# Replace the , with . and transforming into float values\n",
    "Clean_S = []\n",
    "for i in df[\"S\"].copy():\n",
    "    i = float(i.replace(\",\", \".\"))\n",
    "    Clean_S.append(i)\n",
    "df[\"S\"] = Clean_S"
   ]
  },
  {
   "cell_type": "code",
   "execution_count": 6,
   "metadata": {},
   "outputs": [
    {
     "data": {
      "text/html": [
       "<div>\n",
       "<style scoped>\n",
       "    .dataframe tbody tr th:only-of-type {\n",
       "        vertical-align: middle;\n",
       "    }\n",
       "\n",
       "    .dataframe tbody tr th {\n",
       "        vertical-align: top;\n",
       "    }\n",
       "\n",
       "    .dataframe thead th {\n",
       "        text-align: right;\n",
       "    }\n",
       "</style>\n",
       "<table border=\"1\" class=\"dataframe\">\n",
       "  <thead>\n",
       "    <tr style=\"text-align: right;\">\n",
       "      <th></th>\n",
       "      <th>LÄNSKOD</th>\n",
       "      <th>KOMMUNKOD</th>\n",
       "      <th>LÄNSNAMN</th>\n",
       "      <th>KOMMUNNAMN</th>\n",
       "      <th>M</th>\n",
       "      <th>C</th>\n",
       "      <th>L</th>\n",
       "      <th>KD</th>\n",
       "      <th>S</th>\n",
       "      <th>V</th>\n",
       "      <th>...</th>\n",
       "      <th>TRP</th>\n",
       "      <th>VL-S</th>\n",
       "      <th>ÖVR</th>\n",
       "      <th>OGEJ</th>\n",
       "      <th>BLANK</th>\n",
       "      <th>OG</th>\n",
       "      <th>RÖSTER GILTIGA</th>\n",
       "      <th>RÖSTANDE</th>\n",
       "      <th>RÖSTBERÄTTIGADE</th>\n",
       "      <th>VALDELTAGANDE</th>\n",
       "    </tr>\n",
       "  </thead>\n",
       "  <tbody>\n",
       "    <tr>\n",
       "      <th>188</th>\n",
       "      <td>17</td>\n",
       "      <td>62</td>\n",
       "      <td>Värmlands län</td>\n",
       "      <td>Munkfors</td>\n",
       "      <td>8,33</td>\n",
       "      <td>8,12</td>\n",
       "      <td>2,91</td>\n",
       "      <td>3,93</td>\n",
       "      <td>52.18</td>\n",
       "      <td>6,11</td>\n",
       "      <td>...</td>\n",
       "      <td>NaN</td>\n",
       "      <td>NaN</td>\n",
       "      <td>NaN</td>\n",
       "      <td>NaN</td>\n",
       "      <td>1,02</td>\n",
       "      <td>NaN</td>\n",
       "      <td>2340</td>\n",
       "      <td>2364</td>\n",
       "      <td>2777</td>\n",
       "      <td>85,13</td>\n",
       "    </tr>\n",
       "  </tbody>\n",
       "</table>\n",
       "<p>1 rows × 45 columns</p>\n",
       "</div>"
      ],
      "text/plain": [
       "     LÄNSKOD  KOMMUNKOD       LÄNSNAMN KOMMUNNAMN     M     C     L    KD  \\\n",
       "188       17         62  Värmlands län   Munkfors  8,33  8,12  2,91  3,93   \n",
       "\n",
       "         S     V  ...  TRP VL-S  ÖVR OGEJ BLANK   OG RÖSTER GILTIGA RÖSTANDE  \\\n",
       "188  52.18  6,11  ...  NaN  NaN  NaN  NaN  1,02  NaN           2340     2364   \n",
       "\n",
       "    RÖSTBERÄTTIGADE VALDELTAGANDE  \n",
       "188            2777         85,13  \n",
       "\n",
       "[1 rows x 45 columns]"
      ]
     },
     "execution_count": 6,
     "metadata": {},
     "output_type": "execute_result"
    }
   ],
   "source": [
    "# Find the kommun with the higest S voting percentage\n",
    "most_S = df.sort_values(by=\"S\", ascending=False)[:1]\n",
    "most_S"
   ]
  },
  {
   "cell_type": "markdown",
   "metadata": {},
   "source": [
    "We see that Munkfors were the kommun with the highest percentage of S voters namely 52.18%"
   ]
  },
  {
   "cell_type": "markdown",
   "metadata": {},
   "source": [
    "#### Q3"
   ]
  },
  {
   "cell_type": "code",
   "execution_count": 7,
   "metadata": {},
   "outputs": [],
   "source": [
    "Clean_VAL = []\n",
    "for i in df[\"VALDELTAGANDE\"].copy():\n",
    "    i = float(i.replace(\",\", \".\"))\n",
    "    Clean_VAL.append(i)\n",
    "df[\"VALDELTAGANDE\"] = Clean_VAL"
   ]
  },
  {
   "cell_type": "code",
   "execution_count": 8,
   "metadata": {},
   "outputs": [
    {
     "data": {
      "text/html": [
       "<div>\n",
       "<style scoped>\n",
       "    .dataframe tbody tr th:only-of-type {\n",
       "        vertical-align: middle;\n",
       "    }\n",
       "\n",
       "    .dataframe tbody tr th {\n",
       "        vertical-align: top;\n",
       "    }\n",
       "\n",
       "    .dataframe thead th {\n",
       "        text-align: right;\n",
       "    }\n",
       "</style>\n",
       "<table border=\"1\" class=\"dataframe\">\n",
       "  <thead>\n",
       "    <tr style=\"text-align: right;\">\n",
       "      <th></th>\n",
       "      <th>LÄNSKOD</th>\n",
       "      <th>KOMMUNKOD</th>\n",
       "      <th>LÄNSNAMN</th>\n",
       "      <th>KOMMUNNAMN</th>\n",
       "      <th>M</th>\n",
       "      <th>C</th>\n",
       "      <th>L</th>\n",
       "      <th>KD</th>\n",
       "      <th>S</th>\n",
       "      <th>V</th>\n",
       "      <th>...</th>\n",
       "      <th>TRP</th>\n",
       "      <th>VL-S</th>\n",
       "      <th>ÖVR</th>\n",
       "      <th>OGEJ</th>\n",
       "      <th>BLANK</th>\n",
       "      <th>OG</th>\n",
       "      <th>RÖSTER GILTIGA</th>\n",
       "      <th>RÖSTANDE</th>\n",
       "      <th>RÖSTBERÄTTIGADE</th>\n",
       "      <th>VALDELTAGANDE</th>\n",
       "    </tr>\n",
       "  </thead>\n",
       "  <tbody>\n",
       "    <tr>\n",
       "      <th>103</th>\n",
       "      <td>12</td>\n",
       "      <td>62</td>\n",
       "      <td>Skåne län</td>\n",
       "      <td>Lomma</td>\n",
       "      <td>33,16</td>\n",
       "      <td>9,33</td>\n",
       "      <td>9,97</td>\n",
       "      <td>6,38</td>\n",
       "      <td>16.69</td>\n",
       "      <td>2,54</td>\n",
       "      <td>...</td>\n",
       "      <td>NaN</td>\n",
       "      <td>NaN</td>\n",
       "      <td>NaN</td>\n",
       "      <td>NaN</td>\n",
       "      <td>0,51</td>\n",
       "      <td>0,04</td>\n",
       "      <td>16401</td>\n",
       "      <td>16492</td>\n",
       "      <td>17570</td>\n",
       "      <td>93.86</td>\n",
       "    </tr>\n",
       "    <tr>\n",
       "      <th>59</th>\n",
       "      <td>6</td>\n",
       "      <td>43</td>\n",
       "      <td>Jönköpings län</td>\n",
       "      <td>Habo</td>\n",
       "      <td>19,73</td>\n",
       "      <td>8,77</td>\n",
       "      <td>4,22</td>\n",
       "      <td>15,13</td>\n",
       "      <td>23.74</td>\n",
       "      <td>3,91</td>\n",
       "      <td>...</td>\n",
       "      <td>NaN</td>\n",
       "      <td>NaN</td>\n",
       "      <td>NaN</td>\n",
       "      <td>0,06</td>\n",
       "      <td>0,88</td>\n",
       "      <td>0,06</td>\n",
       "      <td>7746</td>\n",
       "      <td>7825</td>\n",
       "      <td>8382</td>\n",
       "      <td>93.35</td>\n",
       "    </tr>\n",
       "    <tr>\n",
       "      <th>98</th>\n",
       "      <td>12</td>\n",
       "      <td>33</td>\n",
       "      <td>Skåne län</td>\n",
       "      <td>Vellinge</td>\n",
       "      <td>39,56</td>\n",
       "      <td>7,24</td>\n",
       "      <td>7,26</td>\n",
       "      <td>7,45</td>\n",
       "      <td>10.58</td>\n",
       "      <td>1,31</td>\n",
       "      <td>...</td>\n",
       "      <td>0</td>\n",
       "      <td>NaN</td>\n",
       "      <td>NaN</td>\n",
       "      <td>0,02</td>\n",
       "      <td>0,4</td>\n",
       "      <td>0,04</td>\n",
       "      <td>25245</td>\n",
       "      <td>25360</td>\n",
       "      <td>27231</td>\n",
       "      <td>93.13</td>\n",
       "    </tr>\n",
       "  </tbody>\n",
       "</table>\n",
       "<p>3 rows × 45 columns</p>\n",
       "</div>"
      ],
      "text/plain": [
       "     LÄNSKOD  KOMMUNKOD        LÄNSNAMN KOMMUNNAMN      M     C     L     KD  \\\n",
       "103       12         62       Skåne län      Lomma  33,16  9,33  9,97   6,38   \n",
       "59         6         43  Jönköpings län       Habo  19,73  8,77  4,22  15,13   \n",
       "98        12         33       Skåne län   Vellinge  39,56  7,24  7,26   7,45   \n",
       "\n",
       "         S     V  ...  TRP VL-S  ÖVR  OGEJ BLANK    OG RÖSTER GILTIGA  \\\n",
       "103  16.69  2,54  ...  NaN  NaN  NaN   NaN  0,51  0,04          16401   \n",
       "59   23.74  3,91  ...  NaN  NaN  NaN  0,06  0,88  0,06           7746   \n",
       "98   10.58  1,31  ...    0  NaN  NaN  0,02   0,4  0,04          25245   \n",
       "\n",
       "    RÖSTANDE RÖSTBERÄTTIGADE VALDELTAGANDE  \n",
       "103    16492           17570         93.86  \n",
       "59      7825            8382         93.35  \n",
       "98     25360           27231         93.13  \n",
       "\n",
       "[3 rows x 45 columns]"
      ]
     },
     "execution_count": 8,
     "metadata": {},
     "output_type": "execute_result"
    }
   ],
   "source": [
    "df = df.sort_values(by=\"VALDELTAGANDE\", ascending = False)\n",
    "df.head(3)"
   ]
  },
  {
   "cell_type": "markdown",
   "metadata": {},
   "source": [
    "## Predicting Strokes"
   ]
  },
  {
   "cell_type": "markdown",
   "metadata": {},
   "source": [
    "Finally we will explore a dataset describing some relevalt medical information about stroke victims. We want to find a distribution of stroke frequency over the ages. "
   ]
  },
  {
   "cell_type": "code",
   "execution_count": 41,
   "metadata": {},
   "outputs": [
    {
     "data": {
      "text/plain": [
       "45.0"
      ]
     },
     "execution_count": 41,
     "metadata": {},
     "output_type": "execute_result"
    },
    {
     "data": {
      "image/png": "[encoded data removed]",
      "text/plain": [
       "<Figure size 432x288 with 1 Axes>"
      ]
     },
     "metadata": {
      "needs_background": "light"
     },
     "output_type": "display_data"
    }
   ],
   "source": [
    "import seaborn as sns\n",
    "df = pd.read_csv(\"stroke-data.csv\")\n",
    "sns.boxplot(data = df, y = 'age')\n",
    "median = df['age'].median()"
   ]
  },
  {
   "cell_type": "markdown",
   "metadata": {},
   "source": [
    "We see that the median age is 45 and the upper quartile is slghtly smaller indicating a higher frequency of stroke at higher ages. "
   ]
  },
  {
   "cell_type": "code",
   "execution_count": null,
   "metadata": {},
   "outputs": [],
   "source": []
  }
 ],
 "metadata": {
  "kernelspec": {
   "display_name": "Python 3",
   "language": "python",
   "name": "python3"
  },
  "language_info": {
   "codemirror_mode": {
    "name": "ipython",
    "version": 3
   },
   "file_extension": ".py",
   "mimetype": "text/x-python",
   "name": "python",
   "nbconvert_exporter": "python",
   "pygments_lexer": "ipython3",
   "version": "3.8.5"
  }
 },
 "nbformat": 4,
 "nbformat_minor": 4
}
