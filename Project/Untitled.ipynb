{
 "cells": [
  {
   "cell_type": "markdown",
   "metadata": {},
   "source": [
    "# Project Statistical Data Processing\n",
    "Oscar Sjöstrand\n",
    "* Do movie critics and fans differ in their opinion about the same movie?\n",
    "* Is the distribution of opinions as exepted (normaly distributed mean at 50%?\n",
    "* Do the distribution of critics and fans differ?\n",
    "* Are there genres with better ratings  (differ critics and fans)?\n",
    "* Does movies get better or worse. i.e did holywood make better movies back in my day? does the fan and critic think the same?"
   ]
  },
  {
   "cell_type": "markdown",
   "metadata": {},
   "source": [
    "We will study the web site rotten tomatoes where each movie is given a critic score as well as a score from the movie audience. The main idea is to test how the movie taste of critics and audience differ. "
   ]
  },
  {
   "cell_type": "code",
   "execution_count": null,
   "metadata": {},
   "outputs": [],
   "source": []
  }
 ],
 "metadata": {
  "kernelspec": {
   "display_name": "Python 3",
   "language": "python",
   "name": "python3"
  },
  "language_info": {
   "codemirror_mode": {
    "name": "ipython",
    "version": 3
   },
   "file_extension": ".py",
   "mimetype": "text/x-python",
   "name": "python",
   "nbconvert_exporter": "python",
   "pygments_lexer": "ipython3",
   "version": "3.8.5"
  }
 },
 "nbformat": 4,
 "nbformat_minor": 4
}
